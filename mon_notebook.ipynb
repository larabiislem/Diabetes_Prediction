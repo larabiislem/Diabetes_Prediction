{
 "cells": [
  {
   "cell_type": "code",
   "execution_count": null,
   "id": "ddcd00d5",
   "metadata": {},
   "outputs": [],
   "source": [
    "import pandas as pd"
   ]
  },
  {
   "cell_type": "code",
   "execution_count": null,
   "id": "eb0147e2",
   "metadata": {},
   "outputs": [
    {
     "name": "stdout",
     "output_type": "stream",
     "text": [
      "(2000, 9)\n",
      "   Pregnancies  Glucose  BloodPressure  SkinThickness  Insulin   BMI  \\\n",
      "0            2      138             62             35        0  33.6   \n",
      "1            0       84             82             31      125  38.2   \n",
      "2            0      145              0              0        0  44.2   \n",
      "3            0      135             68             42      250  42.3   \n",
      "4            1      139             62             41      480  40.7   \n",
      "\n",
      "   DiabetesPedigreeFunction  Age  Outcome  \n",
      "0                     0.127   47        1  \n",
      "1                     0.233   23        0  \n",
      "2                     0.630   31        1  \n",
      "3                     0.365   24        1  \n",
      "4                     0.536   21        0  \n"
     ]
    }
   ],
   "source": [
    "data = pd.read_csv('kaggle_diabetes.csv')\n",
    "print(data.shape)\n",
    "print(data.head())\n"
   ]
  },
  {
   "cell_type": "code",
   "execution_count": 11,
   "id": "b6e7b292",
   "metadata": {},
   "outputs": [
    {
     "name": "stdout",
     "output_type": "stream",
     "text": [
      "       Pregnancies      Glucose  BloodPressure  SkinThickness      Insulin  \\\n",
      "count  2000.000000  2000.000000    2000.000000    2000.000000  2000.000000   \n",
      "mean      3.703500   121.182500      69.145500      20.935000    80.254000   \n",
      "std       3.306063    32.068636      19.188315      16.103243   111.180534   \n",
      "min       0.000000     0.000000       0.000000       0.000000     0.000000   \n",
      "25%       1.000000    99.000000      63.500000       0.000000     0.000000   \n",
      "50%       3.000000   117.000000      72.000000      23.000000    40.000000   \n",
      "75%       6.000000   141.000000      80.000000      32.000000   130.000000   \n",
      "max      17.000000   199.000000     122.000000     110.000000   744.000000   \n",
      "\n",
      "               BMI  DiabetesPedigreeFunction          Age      Outcome  \n",
      "count  2000.000000               2000.000000  2000.000000  2000.000000  \n",
      "mean     32.193000                  0.470930    33.090500     0.342000  \n",
      "std       8.149901                  0.323553    11.786423     0.474498  \n",
      "min       0.000000                  0.078000    21.000000     0.000000  \n",
      "25%      27.375000                  0.244000    24.000000     0.000000  \n",
      "50%      32.300000                  0.376000    29.000000     0.000000  \n",
      "75%      36.800000                  0.624000    40.000000     1.000000  \n",
      "max      80.600000                  2.420000    81.000000     1.000000  \n"
     ]
    }
   ],
   "source": [
    "print(data.describe())"
   ]
  },
  {
   "cell_type": "code",
   "execution_count": 14,
   "id": "dc3addbc",
   "metadata": {},
   "outputs": [
    {
     "name": "stdout",
     "output_type": "stream",
     "text": [
      "<class 'pandas.core.frame.DataFrame'>\n",
      "RangeIndex: 2000 entries, 0 to 1999\n",
      "Data columns (total 9 columns):\n",
      " #   Column                    Non-Null Count  Dtype  \n",
      "---  ------                    --------------  -----  \n",
      " 0   Pregnancies               2000 non-null   int64  \n",
      " 1   Glucose                   2000 non-null   int64  \n",
      " 2   BloodPressure             2000 non-null   int64  \n",
      " 3   SkinThickness             2000 non-null   int64  \n",
      " 4   Insulin                   2000 non-null   int64  \n",
      " 5   BMI                       2000 non-null   float64\n",
      " 6   DiabetesPedigreeFunction  2000 non-null   float64\n",
      " 7   Age                       2000 non-null   int64  \n",
      " 8   Outcome                   2000 non-null   int64  \n",
      "dtypes: float64(2), int64(7)\n",
      "memory usage: 140.8 KB\n"
     ]
    }
   ],
   "source": [
    "data.info()"
   ]
  },
  {
   "cell_type": "code",
   "execution_count": null,
   "id": "af9b8ef9",
   "metadata": {},
   "outputs": [],
   "source": []
  }
 ],
 "metadata": {
  "kernelspec": {
   "display_name": "monenv",
   "language": "python",
   "name": "python3"
  },
  "language_info": {
   "codemirror_mode": {
    "name": "ipython",
    "version": 3
   },
   "file_extension": ".py",
   "mimetype": "text/x-python",
   "name": "python",
   "nbconvert_exporter": "python",
   "pygments_lexer": "ipython3",
   "version": "3.13.5"
  }
 },
 "nbformat": 4,
 "nbformat_minor": 5
}
